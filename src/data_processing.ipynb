{
 "cells": [
  {
   "cell_type": "code",
   "execution_count": null,
   "metadata": {},
   "outputs": [],
   "source": [
    "import torch\n",
    "import pandas as pd\n",
    "from torch_geometric.data import Data\n",
    "from sklearn.neighbors import kneighbors_graph\n",
    "\n",
    "def load_data():\n",
    "    # Load the dataset files\n",
    "    student_info = pd.read_csv(\"data/raw/studentInfo.csv\")\n",
    "    student_info = student_info.fillna(0)\n",
    "\n",
    "    # Extract features and labels\n",
    "    features = student_info[['studied_credits', 'num_of_prev_attempts']].values\n",
    "    labels = student_info['final_result'].apply(lambda x: 1 if x == 'Pass' else 0).values\n",
    "\n",
    "    # Convert to tensors\n",
    "    X = torch.tensor(features, dtype=torch.float32)\n",
    "    y = torch.tensor(labels, dtype=torch.long)\n",
    "\n",
    "    # Use k-nearest neighbors to create a sparse edge index\n",
    "    k = 5  # Define the number of neighbors\n",
    "    adjacency_matrix = kneighbors_graph(features, k, mode='connectivity', include_self=False)\n",
    "    edge_index = torch.tensor(adjacency_matrix.nonzero(), dtype=torch.long)\n",
    "\n",
    "    # Create the Data object for torch_geometric\n",
    "    data = Data(x=X, edge_index=edge_index, y=y)\n",
    "    return data"
   ]
  }
 ],
 "metadata": {
  "kernelspec": {
   "display_name": "Python 3",
   "language": "python",
   "name": "python3"
  },
  "language_info": {
   "codemirror_mode": {
    "name": "ipython",
    "version": 3
   },
   "file_extension": ".py",
   "mimetype": "text/x-python",
   "name": "python",
   "nbconvert_exporter": "python",
   "pygments_lexer": "ipython3",
   "version": "3.12.8"
  }
 },
 "nbformat": 4,
 "nbformat_minor": 2
}
