{
 "cells": [
  {
   "cell_type": "code",
   "execution_count": null,
   "metadata": {},
   "outputs": [],
   "source": [
    "import pandas as pd\n",
    "import dgl\n",
    "import torch\n",
    "import time\n",
    "import os\n",
    "\n",
    "file_path = \"C:/Users/suman/OneDrive/Bureau/Case_Study/prj_Graphtransformers/prj_Graphtransformers/data/raw/assessments.csv\"\n",
    "print(f\"File exists: {os.path.exists(file_path)}\")\n",
    "\n",
    "def load_data():\n",
    "    \"\"\"\n",
    "    Load OULAD dataset from CSV files.\n",
    "    \"\"\"\n",
    "    print(\"Loading data...\")\n",
    "    start_time = time.time()\n",
    "    assessments = pd.read_csv(file_path)\n",
    "    courses = pd.read_csv(\"C:/Users/suman/OneDrive/Bureau/Case_Study/prj_Graphtransformers/prj_Graphtransformers/data/raw/courses.csv\")\n",
    "    student_assessments = pd.read_csv(\"C:/Users/suman/OneDrive/Bureau/Case_Study/prj_Graphtransformers/prj_Graphtransformers/data/raw/studentAssessment.csv\")\n",
    "    student_info = pd.read_csv(\"C:/Users/suman/OneDrive/Bureau/Case_Study/prj_Graphtransformers/prj_Graphtransformers/data/raw/studentInfo.csv\")\n",
    "    student_registration = pd.read_csv(\"C:/Users/suman/OneDrive/Bureau/Case_Study/prj_Graphtransformers/prj_Graphtransformers/data/raw/studentRegistration.csv\")\n",
    "    student_vle = pd.read_csv(\"C:/Users/suman/OneDrive/Bureau/Case_Study/prj_Graphtransformers/prj_Graphtransformers/data/raw/studentVle.csv\")\n",
    "    vle = pd.read_csv(\"C:/Users/suman/OneDrive/Bureau/Case_Study/prj_Graphtransformers/prj_Graphtransformers/data/raw/vle.csv\")\n",
    "    print(f\"Data loaded in {time.time() - start_time:.2f} seconds.\")\n",
    "    return assessments, courses, student_assessments, student_info, student_registration, student_vle, vle\n",
    "\n",
    "if __name__ == \"__main__\":\n",
    "    load_data()"
   ]
  }
 ],
 "metadata": {
  "kernelspec": {
   "display_name": "Python 3",
   "language": "python",
   "name": "python3"
  },
  "language_info": {
   "codemirror_mode": {
    "name": "ipython",
    "version": 3
   },
   "file_extension": ".py",
   "mimetype": "text/x-python",
   "name": "python",
   "nbconvert_exporter": "python",
   "pygments_lexer": "ipython3",
   "version": "3.12.8"
  }
 },
 "nbformat": 4,
 "nbformat_minor": 2
}
