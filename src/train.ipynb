{
 "cells": [
  {
   "cell_type": "code",
   "execution_count": null,
   "metadata": {},
   "outputs": [],
   "source": [
    "import torch\n",
    "from torch.optim.lr_scheduler import StepLR\n",
    "from model import GNN\n",
    "from data_processing import load_data, create_graph\n",
    "\n",
    "def train_gnn():\n",
    "    data = load_data()\n",
    "    G = create_graph(data)\n",
    "    edge_index = torch.tensor([(u, v) for u, v in G.edges()], dtype=torch.long).t().contiguous()\n",
    "    x = torch.randn(G.number_of_nodes(), 64)  # Node features can be improved based on the graph\n",
    "\n",
    "    graph_data = Data(x=x, edge_index=edge_index)\n",
    "    model = GNN(in_dim=64, hidden_dim=128, out_dim=2)\n",
    "    optimizer = torch.optim.Adam(model.parameters(), lr=0.005, weight_decay=1e-4)\n",
    "    scheduler = StepLR(optimizer, step_size=20, gamma=0.5)\n",
    "    loss_fn = torch.nn.CrossEntropyLoss()\n",
    "\n",
    "    # Early stopping\n",
    "    best_loss = float('inf')\n",
    "    patience, patience_counter = 10, 0\n",
    "\n",
    "    y = torch.randint(0, 2, (G.number_of_nodes(),))  # Replace with actual labels\n",
    "\n",
    "    for epoch in range(100):\n",
    "        model.train()\n",
    "        optimizer.zero_grad()\n",
    "        out = model(graph_data.x, graph_data.edge_index)\n",
    "        loss = loss_fn(out, y)\n",
    "        loss.backward()\n",
    "        optimizer.step()\n",
    "        scheduler.step()\n",
    "\n",
    "        if epoch % 10 == 0:\n",
    "            print(f'Epoch {epoch}, Loss: {loss.item()}')\n",
    "        if loss < best_loss:\n",
    "            best_loss = loss\n",
    "            patience_counter = 0\n",
    "        else:\n",
    "            patience_counter += 1\n",
    "        if patience_counter >= patience:\n",
    "            print(\"Early stopping triggered.\")\n",
    "            break\n",
    "\n",
    "if __name__ == \"__main__\":\n",
    "    train_gnn()"
   ]
  }
 ],
 "metadata": {
  "kernelspec": {
   "display_name": "Python 3",
   "language": "python",
   "name": "python3"
  },
  "language_info": {
   "name": "python",
   "version": "3.12.8"
  }
 },
 "nbformat": 4,
 "nbformat_minor": 2
}
