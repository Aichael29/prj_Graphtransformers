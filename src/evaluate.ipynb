{
 "cells": [
  {
   "cell_type": "code",
   "execution_count": null,
   "metadata": {},
   "outputs": [],
   "source": [
    "import torch\n",
    "from model import GNN, GraphTransformer\n",
    "from data_processing import load_data\n",
    "from sklearn.metrics import accuracy_score, f1_score, confusion_matrix\n",
    "\n",
    "def evaluate(model, data):\n",
    "    model.eval()\n",
    "    with torch.no_grad():\n",
    "        logits = model(data.x, data.edge_index)\n",
    "        pred = logits.argmax(dim=1)\n",
    "        accuracy = accuracy_score(data.y.cpu(), pred.cpu())\n",
    "        f1 = f1_score(data.y.cpu(), pred.cpu(), average=\"weighted\")\n",
    "        cm = confusion_matrix(data.y.cpu(), pred.cpu())\n",
    "        return accuracy, f1, cm\n",
    "\n",
    "# Load data\n",
    "data = load_data()\n",
    "\n",
    "# Model parameters\n",
    "in_dim = data.x.size(1)\n",
    "hidden_dim = 64\n",
    "out_dim = 2\n",
    "num_heads = 4\n",
    "\n",
    "# Initialize models\n",
    "gnn_model = GNN(in_dim, hidden_dim, out_dim)\n",
    "gt_model = GraphTransformer(in_dim, hidden_dim, out_dim, num_heads)\n",
    "\n",
    "# Evaluate models\n",
    "gnn_accuracy, gnn_f1, gnn_cm = evaluate(gnn_model, data)\n",
    "gt_accuracy, gt_f1, gt_cm = evaluate(gt_model, data)\n",
    "\n",
    "# Display results\n",
    "print(f\"GNN - Accuracy: {gnn_accuracy}, F1: {gnn_f1}\\nConfusion Matrix:\\n{gnn_cm}\")\n",
    "print(f\"Graph Transformer - Accuracy: {gt_accuracy}, F1: {gt_f1}\\nConfusion Matrix:\\n{gt_cm}\")"
   ]
  }
 ],
 "metadata": {
  "kernelspec": {
   "display_name": "Python 3",
   "language": "python",
   "name": "python3"
  },
  "language_info": {
   "name": "python",
   "version": "3.12.8"
  }
 },
 "nbformat": 4,
 "nbformat_minor": 2
}
