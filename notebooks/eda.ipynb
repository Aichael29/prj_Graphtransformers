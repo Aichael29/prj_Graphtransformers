{
 "cells": [
  {
   "cell_type": "code",
   "execution_count": null,
   "metadata": {
    "vscode": {
     "languageId": "plaintext"
    }
   },
   "outputs": [],
   "source": [
    "# Import necessary libraries\n",
    "import pandas as pd\n",
    "import matplotlib.pyplot as plt\n",
    "import seaborn as sns\n",
    "\n",
    "# Set seaborn style for plots\n",
    "sns.set(style=\"whitegrid\")"
   ]
  },
  {
   "cell_type": "markdown",
   "metadata": {},
   "source": [
    "1. Data Loading"
   ]
  },
  {
   "cell_type": "code",
   "execution_count": null,
   "metadata": {
    "vscode": {
     "languageId": "plaintext"
    }
   },
   "outputs": [],
   "source": [
    "# Load datasets\n",
    "student_info = pd.read_csv('../data/raw/studentInfo.csv')\n",
    "student_assessment = pd.read_csv('../data/raw/studentAssessment.csv')\n",
    "student_registration = pd.read_csv('../data/raw/studentRegistration.csv')\n",
    "assessments = pd.read_csv('../data/raw/assessments.csv')\n",
    "courses = pd.read_csv('../data/raw/courses.csv')\n",
    "student_vle = pd.read_csv('../data/raw/studentVle.csv')\n",
    "vle = pd.read_csv('../data/raw/vle.csv')"
   ]
  },
  {
   "cell_type": "markdown",
   "metadata": {},
   "source": [
    "2. Basic Information about the Datasets"
   ]
  },
  {
   "cell_type": "code",
   "execution_count": null,
   "metadata": {
    "vscode": {
     "languageId": "plaintext"
    }
   },
   "outputs": [],
   "source": [
    "print(\"Student Info:\")\n",
    "display(student_info.info())\n",
    "display(student_info.head())\n",
    "\n",
    "print(\"Student Assessment:\")\n",
    "display(student_assessment.info())\n",
    "display(student_assessment.head())\n",
    "\n",
    "print(\"Student Registration:\")\n",
    "display(student_registration.info())\n",
    "display(student_registration.head())"
   ]
  },
  {
   "cell_type": "markdown",
   "metadata": {},
   "source": [
    "3. Missing Value Analysis"
   ]
  },
  {
   "cell_type": "code",
   "execution_count": null,
   "metadata": {
    "vscode": {
     "languageId": "plaintext"
    }
   },
   "outputs": [],
   "source": [
    "print(\"Missing values in each dataset:\")\n",
    "for name, df in [(\"student_info\", student_info), \n",
    "                 (\"student_assessment\", student_assessment), \n",
    "                 (\"student_registration\", student_registration), \n",
    "                 (\"assessments\", assessments), \n",
    "                 (\"courses\", courses), \n",
    "                 (\"student_vle\", student_vle), \n",
    "                 (\"vle\", vle)]:\n",
    "    missing_values = df.isnull().sum()\n",
    "    print(f\"{name}:\\n{missing_values[missing_values > 0]}\\n\")"
   ]
  },
  {
   "cell_type": "markdown",
   "metadata": {},
   "source": [
    " 4. Summary Statistics"
   ]
  },
  {
   "cell_type": "code",
   "execution_count": null,
   "metadata": {
    "vscode": {
     "languageId": "plaintext"
    }
   },
   "outputs": [],
   "source": [
    "print(\"Summary statistics of student_info:\")\n",
    "display(student_info.describe())"
   ]
  },
  {
   "cell_type": "markdown",
   "metadata": {},
   "source": [
    "5. Data Distribution Analysis"
   ]
  },
  {
   "cell_type": "code",
   "execution_count": null,
   "metadata": {
    "vscode": {
     "languageId": "plaintext"
    }
   },
   "outputs": [],
   "source": [
    "# Distribution of Final Results\n",
    "plt.figure(figsize=(8, 6))\n",
    "sns.countplot(data=student_info, x='final_result')\n",
    "plt.title(\"Distribution of Final Results\")\n",
    "plt.xlabel(\"Final Result\")\n",
    "plt.ylabel(\"Count\")\n",
    "plt.show()"
   ]
  },
  {
   "cell_type": "markdown",
   "metadata": {},
   "source": [
    "6. Demographic Analysis"
   ]
  },
  {
   "cell_type": "code",
   "execution_count": null,
   "metadata": {
    "vscode": {
     "languageId": "plaintext"
    }
   },
   "outputs": [],
   "source": [
    "# Gender Distribution by Final Result\n",
    "plt.figure(figsize=(8, 6))\n",
    "sns.countplot(data=student_info, x='gender', hue='final_result')\n",
    "plt.title(\"Gender Distribution by Final Result\")\n",
    "plt.xlabel(\"Gender\")\n",
    "plt.ylabel(\"Count\")\n",
    "plt.legend(title=\"Final Result\")\n",
    "plt.show()\n",
    "\n",
    "# Age Band Distribution by Final Result\n",
    "plt.figure(figsize=(10, 6))\n",
    "sns.countplot(data=student_info, x='age_band', hue='final_result')\n",
    "plt.title(\"Age Band Distribution by Final Result\")\n",
    "plt.xlabel(\"Age Band\")\n",
    "plt.ylabel(\"Count\")\n",
    "plt.legend(title=\"Final Result\")\n",
    "plt.show()"
   ]
  },
  {
   "cell_type": "markdown",
   "metadata": {},
   "source": [
    "7. Course and Academic Data Analysis"
   ]
  },
  {
   "cell_type": "code",
   "execution_count": null,
   "metadata": {
    "vscode": {
     "languageId": "plaintext"
    }
   },
   "outputs": [],
   "source": [
    "# Distribution of Studied Credits\n",
    "plt.figure(figsize=(10, 6))\n",
    "sns.histplot(data=student_info, x='studied_credits', bins=20, kde=True)\n",
    "plt.title(\"Distribution of Studied Credits\")\n",
    "plt.xlabel(\"Studied Credits\")\n",
    "plt.ylabel(\"Frequency\")\n",
    "plt.show()\n",
    "\n",
    "# Number of Students Registered per Course\n",
    "student_registration_counts = student_registration['code_module'].value_counts()\n",
    "plt.figure(figsize=(10, 6))\n",
    "sns.barplot(x=student_registration_counts.index, y=student_registration_counts.values)\n",
    "plt.title(\"Number of Students Registered per Course\")\n",
    "plt.xlabel(\"Course Module\")\n",
    "plt.ylabel(\"Number of Registrations\")\n",
    "plt.show()"
   ]
  },
  {
   "cell_type": "markdown",
   "metadata": {},
   "source": [
    "8. Assessment Analysis"
   ]
  },
  {
   "cell_type": "code",
   "execution_count": null,
   "metadata": {
    "vscode": {
     "languageId": "plaintext"
    }
   },
   "outputs": [],
   "source": [
    "# Distribution of Assessment Scores\n",
    "plt.figure(figsize=(12, 6))\n",
    "sns.histplot(data=student_assessment, x='score', bins=30, kde=True)\n",
    "plt.title(\"Distribution of Assessment Scores\")\n",
    "plt.xlabel(\"Score\")\n",
    "plt.ylabel(\"Frequency\")\n",
    "plt.show()"
   ]
  },
  {
   "cell_type": "markdown",
   "metadata": {},
   "source": [
    "9. Virtual Learning Environment (VLE) Analysis"
   ]
  },
  {
   "cell_type": "code",
   "execution_count": null,
   "metadata": {
    "vscode": {
     "languageId": "plaintext"
    }
   },
   "outputs": [],
   "source": [
    "# Sum of Clicks per Student in VLE\n",
    "student_vle['total_clicks'] = student_vle.groupby('id_student')['sum_click'].transform('sum')\n",
    "plt.figure(figsize=(12, 6))\n",
    "sns.histplot(data=student_vle.drop_duplicates('id_student'), x='total_clicks', bins=30, kde=True)\n",
    "plt.title(\"Distribution of Total Clicks per Student in VLE\")\n",
    "plt.xlabel(\"Total Clicks\")\n",
    "plt.ylabel(\"Frequency\")\n",
    "plt.show()"
   ]
  }
 ],
 "metadata": {
  "language_info": {
   "name": "python"
  }
 },
 "nbformat": 4,
 "nbformat_minor": 2
}
